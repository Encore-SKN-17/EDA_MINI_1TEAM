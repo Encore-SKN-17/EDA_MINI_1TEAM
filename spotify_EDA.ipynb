{
 "cells": [
  {
   "cell_type": "code",
   "execution_count": 1,
   "id": "0f886564",
   "metadata": {},
   "outputs": [],
   "source": [
    "#!pip install squarify\n",
    "# !pip install seaborn"
   ]
  },
  {
   "cell_type": "code",
   "execution_count": 2,
   "id": "59d5872a",
   "metadata": {},
   "outputs": [],
   "source": [
    "import numpy as np\n",
    "import pandas as pd\n",
    "import matplotlib.pyplot as plt\n",
    "import squarify\n",
    "import ast\n",
    "import os\n",
    "import seaborn as sns\n",
    "from matplotlib import colors"
   ]
  },
  {
   "cell_type": "markdown",
   "id": "3c99ce80",
   "metadata": {},
   "source": [
    "### 1. 평균 러닝타임과 인기도 관계"
   ]
  },
  {
   "cell_type": "code",
   "execution_count": 43,
   "id": "aa91ac26",
   "metadata": {},
   "outputs": [
    {
     "name": "stdout",
     "output_type": "stream",
     "text": [
      "<class 'pandas.core.frame.DataFrame'>\n",
      "RangeIndex: 586672 entries, 0 to 586671\n",
      "Data columns (total 21 columns):\n",
      " #   Column            Non-Null Count   Dtype         \n",
      "---  ------            --------------   -----         \n",
      " 0   id                586672 non-null  object        \n",
      " 1   name              586601 non-null  object        \n",
      " 2   popularity        586672 non-null  int64         \n",
      " 3   duration_ms       586672 non-null  int64         \n",
      " 4   explicit          586672 non-null  int64         \n",
      " 5   artists           586672 non-null  object        \n",
      " 6   id_artists        586672 non-null  object        \n",
      " 7   release_date      586672 non-null  datetime64[ns]\n",
      " 8   danceability      586672 non-null  float64       \n",
      " 9   energy            586672 non-null  float64       \n",
      " 10  key               586672 non-null  int64         \n",
      " 11  loudness          586672 non-null  float64       \n",
      " 12  mode              586672 non-null  int64         \n",
      " 13  speechiness       586672 non-null  float64       \n",
      " 14  acousticness      586672 non-null  float64       \n",
      " 15  instrumentalness  586672 non-null  float64       \n",
      " 16  liveness          586672 non-null  float64       \n",
      " 17  valence           586672 non-null  float64       \n",
      " 18  tempo             586672 non-null  float64       \n",
      " 19  time_signature    586672 non-null  int64         \n",
      " 20  year              586672 non-null  int64         \n",
      "dtypes: datetime64[ns](1), float64(9), int64(7), object(4)\n",
      "memory usage: 94.0+ MB\n"
     ]
    }
   ],
   "source": [
    "# 1. 데이터 로드\n",
    "track_df = pd.read_csv('./data/tracks.csv')\n",
    "track_df['release_date'] = pd.to_datetime(track_df['release_date'], errors='coerce')\n",
    "track_df['year'] = track_df['release_date'].dt.year\n",
    "\n",
    "track_df.info()"
   ]
  },
  {
   "cell_type": "code",
   "execution_count": 4,
   "id": "b0cf6800",
   "metadata": {},
   "outputs": [],
   "source": [
    "# 2. 분석할 연도 필터링\n",
    "years = [1980, 1990, 2000, 2010, 2020]\n",
    "df_filtered = track_df[track_df['year'].isin(years)]\n"
   ]
  },
  {
   "cell_type": "code",
   "execution_count": 5,
   "id": "456586b7",
   "metadata": {},
   "outputs": [],
   "source": [
    "# 3. 연도별 평균 러닝타임, 인기도 계산\n",
    "stats = (\n",
    "    df_filtered\n",
    "    .groupby('year')[['duration_ms', 'popularity']]\n",
    "    .mean()\n",
    "    .reset_index()\n",
    ")"
   ]
  },
  {
   "cell_type": "code",
   "execution_count": 6,
   "id": "3396ed72",
   "metadata": {},
   "outputs": [
    {
     "data": {
      "image/png": "[encoded data removed]",
      "text/plain": [
       "<Figure size 432x288 with 2 Axes>"
      ]
     },
     "metadata": {
      "needs_background": "light"
     },
     "output_type": "display_data"
    }
   ],
   "source": [
    "# 4. 이중 축 그래프 그리기\n",
    "fig, ax1 = plt.subplots()\n",
    "\n",
    "# 왼쪽 축: duration_ms\n",
    "ax1.plot(stats['year'], stats['duration_ms'], marker='o')\n",
    "ax1.set_xlabel('Year')\n",
    "ax1.set_ylabel('Average Duration (ms)')\n",
    "ax1.set_xticks(years)\n",
    "\n",
    "# 오른쪽 축: popularity\n",
    "ax2 = ax1.twinx()\n",
    "ax2.plot(stats['year'], stats['popularity'], marker='o')\n",
    "ax2.set_ylabel('Average Popularity')\n",
    "\n",
    "fig.tight_layout()\n",
    "plt.title('Average Duration and Popularity by Year')\n",
    "plt.show()"
   ]
  },
  {
   "cell_type": "markdown",
   "id": "637b3836",
   "metadata": {},
   "source": [
    "------------------------"
   ]
  },
  {
   "cell_type": "markdown",
   "id": "b40a3074",
   "metadata": {},
   "source": [
    "### 2. 장르별 평균 러닝타임"
   ]
  },
  {
   "cell_type": "code",
   "execution_count": 7,
   "id": "f97ca6da",
   "metadata": {},
   "outputs": [],
   "source": [
    "# 1. 데이터 로드 & 1980~2020 필터링\n",
    "artists = pd.read_csv('./data/artists.csv')\n",
    "\n",
    "track_df['release_date'] = pd.to_datetime(track_df['release_date'], errors='coerce')\n",
    "track_df['year'] = track_df['release_date'].dt.year\n",
    "df = track_df[(track_df['year'] >= 1980) & (track_df['year'] <= 2020)].copy()"
   ]
  },
  {
   "cell_type": "code",
   "execution_count": 8,
   "id": "3ccb1984",
   "metadata": {},
   "outputs": [],
   "source": [
    "# 2. primary_artist 추출\n",
    "def get_first_artist(x):\n",
    "    if pd.isna(x): return None\n",
    "    try:\n",
    "        lst = ast.literal_eval(x)\n",
    "        return lst[0] if isinstance(lst, list) and lst else None\n",
    "    except:\n",
    "        return x\n",
    "\n",
    "df['primary_artist'] = df['artists'].apply(get_first_artist)"
   ]
  },
  {
   "cell_type": "code",
   "execution_count": 9,
   "id": "020aa684",
   "metadata": {},
   "outputs": [],
   "source": [
    "# 3. 아티스트 테이블에서 primary_genre 생성\n",
    "artists['genres_list'] = artists['genres'].apply(\n",
    "    lambda x: ast.literal_eval(x) if pd.notna(x) else []\n",
    ")\n",
    "artists['primary_genre'] = artists['genres_list'].apply(\n",
    "    lambda lst: lst[0] if lst else None\n",
    ")\n"
   ]
  },
  {
   "cell_type": "code",
   "execution_count": 10,
   "id": "27d84c77",
   "metadata": {},
   "outputs": [],
   "source": [
    "# 4. tracks ↔ artists 조인\n",
    "df = df.merge(\n",
    "    artists[['name','primary_genre']],\n",
    "    left_on='primary_artist',\n",
    "    right_on='name',\n",
    "    how='left'\n",
    ")"
   ]
  },
  {
   "cell_type": "code",
   "execution_count": 11,
   "id": "e305604d",
   "metadata": {},
   "outputs": [],
   "source": [
    "# 5. Broad Category 매핑 함수 정의\n",
    "def map_category(genre):\n",
    "    if not isinstance(genre, str):\n",
    "        return None\n",
    "    g = genre.lower()\n",
    "    if 'hip hop' in g or 'rap' in g:\n",
    "        return 'Rap/Hip‑Hop'\n",
    "    elif 'jazz' in g:\n",
    "        return 'Jazz'\n",
    "    elif 'r&b' in g or 'rnb' in g:\n",
    "        return 'R&B'\n",
    "    elif 'pop' in g:\n",
    "        return 'Pop'\n",
    "    elif 'rock' in g:\n",
    "        return 'Rock'\n",
    "    elif any(k in g for k in ['electro','edm','house','dance','techno','electronic']):\n",
    "        return 'Electronic'\n",
    "    elif 'classical' in g:\n",
    "        return 'Classical'\n",
    "    else:\n",
    "        return None"
   ]
  },
  {
   "cell_type": "code",
   "execution_count": 12,
   "id": "351db313",
   "metadata": {},
   "outputs": [],
   "source": [
    "# 6. 각 트랙에 Broad Category 할당\n",
    "df['broad_category'] = df['primary_genre'].apply(map_category)"
   ]
  },
  {
   "cell_type": "code",
   "execution_count": 13,
   "id": "a66f0c09",
   "metadata": {},
   "outputs": [],
   "source": [
    "# 7. 원하는 카테고리만 필터링\n",
    "categories = ['Rap/Hip‑Hop','Jazz','R&B','Pop','Rock','Electronic','Classical']\n",
    "df_sel = df[df['broad_category'].isin(categories)].copy()"
   ]
  },
  {
   "cell_type": "code",
   "execution_count": null,
   "id": "550e7d01",
   "metadata": {},
   "outputs": [],
   "source": [
    "# 8. 카테고리별 트랙 수 및 평균 러닝타임 집계\n",
    "counts = df_sel['broad_category'].value_counts().loc[categories]\n",
    "avg_ms = df.groupby('broad_category')['duration_ms'].mean()\n",
    "sizes  = counts.values\n",
    "labels = []\n",
    "\n",
    "for genre in counts.index:\n",
    "    msec = avg_ms.loc[genre]\n",
    "    total_sec = int(msec // 1000)\n",
    "    m = total_sec // 60\n",
    "    s = total_sec % 60\n",
    "    labels.append(f'{genre}\\n{m:02d}:{s:02d}')"
   ]
  },
  {
   "cell_type": "code",
   "execution_count": 21,
   "id": "3be74a44",
   "metadata": {},
   "outputs": [],
   "source": [
    "# 9. 녹→빨 그라데이션 컬러 매핑\n",
    "norm      = colors.Normalize(vmin=sizes.min(), vmax=sizes.max())\n",
    "cmap      = colors.LinearSegmentedColormap.from_list('GreenRed', ['green','red'])\n",
    "color_vals = [cmap(norm(v)) for v in sizes]"
   ]
  },
  {
   "cell_type": "code",
   "execution_count": 27,
   "id": "92c12273",
   "metadata": {},
   "outputs": [
    {
     "data": {
      "image/png": "[encoded data removed]",
      "text/plain": [
       "<Figure size 1008x864 with 1 Axes>"
      ]
     },
     "metadata": {
      "needs_background": "light"
     },
     "output_type": "display_data"
    }
   ],
   "source": [
    "\n",
    "# 10. 트리맵 그리기\n",
    "plt.figure(figsize=(14, 12))\n",
    "squarify.plot(\n",
    "    sizes=sizes,\n",
    "    label=labels,\n",
    "    color=color_vals,\n",
    "    pad=False,                 # 박스 사이 공백 제거\n",
    "    bar_kwargs={'linewidth':0},\n",
    "    text_kwargs={'fontsize':12, 'color':'white'}\n",
    ")\n",
    "plt.title('1980–2020 Genre Distribution by Broad Category')\n",
    "plt.axis('off')\n",
    "plt.tight_layout(pad=0)\n",
    "plt.show()"
   ]
  },
  {
   "cell_type": "markdown",
   "id": "193ea2fe",
   "metadata": {},
   "source": [
    "----------------"
   ]
  },
  {
   "cell_type": "markdown",
   "id": "89571ba3",
   "metadata": {},
   "source": [
    "### 10년 단위 boxplot"
   ]
  },
  {
   "cell_type": "code",
   "execution_count": 38,
   "id": "f7789b0f",
   "metadata": {},
   "outputs": [],
   "source": [
    "df['decade'] = (df['year'] // 10) * 10\n",
    "df['runtime_min'] = df['duration_ms'] / 60000\n",
    "\n",
    "decade_bins = [1980, 1990, 2000, 2010, 2020]\n",
    "data = []\n",
    "labels = []\n",
    "for dec in decade_bins:\n",
    "    runtimes = df.loc[df['decade'] == dec, 'runtime_min']\n",
    "    if not runtimes.empty:\n",
    "        data.append(runtimes)\n",
    "        labels.append(f\"{dec}s\")"
   ]
  },
  {
   "cell_type": "code",
   "execution_count": 41,
   "id": "c5d39f22",
   "metadata": {},
   "outputs": [
    {
     "data": {
      "image/png": "[encoded data removed]",
      "text/plain": [
       "<Figure size 720x432 with 1 Axes>"
      ]
     },
     "metadata": {
      "needs_background": "light"
     },
     "output_type": "display_data"
    }
   ],
   "source": [
    "colors = ['#AEC6CF', '#FFB347', '#77DD77', '#FF6961', '#CBAACB']\n",
    "\n",
    "fig, ax = plt.subplots(figsize=(10, 6))\n",
    "bp = ax.boxplot(\n",
    "    data,\n",
    "    labels=labels,\n",
    "    patch_artist=True,\n",
    "    showfliers=False\n",
    ")\n",
    "\n",
    "# 여기서 바로 컬러 변경\n",
    "for box, color in zip(bp['boxes'], colors):\n",
    "    box.set(facecolor=color, edgecolor='black', linewidth=1.2)\n",
    "\n",
    "# (선택) 중앙선, 수염, 캡 스타일도 바꿔보기\n",
    "for median in bp['medians']:\n",
    "    median.set(color='black', linewidth=1.5)\n",
    "for whisker in bp['whiskers']:\n",
    "    whisker.set(color='gray', linestyle='--', linewidth=1)\n",
    "for cap in bp['caps']:\n",
    "    cap.set(color='gray', linewidth=1)\n",
    "\n",
    "ax.set_title('Runtime Distribution by Decade (Outliers Removed)', fontsize=16)\n",
    "ax.set_xlabel('Decade', fontsize=12)\n",
    "ax.set_ylabel('Runtime (minutes)', fontsize=12)\n",
    "\n",
    "plt.tight_layout()\n",
    "plt.show()"
   ]
  },
  {
   "cell_type": "code",
   "execution_count": null,
   "id": "e15a20c7",
   "metadata": {},
   "outputs": [],
   "source": []
  },
  {
   "cell_type": "code",
   "execution_count": null,
   "id": "d05e251f",
   "metadata": {},
   "outputs": [],
   "source": []
  },
  {
   "cell_type": "code",
   "execution_count": null,
   "id": "7f025420",
   "metadata": {},
   "outputs": [],
   "source": []
  },
  {
   "cell_type": "code",
   "execution_count": null,
   "id": "084aad13",
   "metadata": {},
   "outputs": [],
   "source": []
  },
  {
   "cell_type": "code",
   "execution_count": null,
   "id": "a9c58543",
   "metadata": {},
   "outputs": [],
   "source": []
  },
  {
   "cell_type": "code",
   "execution_count": null,
   "id": "237b4a5a",
   "metadata": {},
   "outputs": [],
   "source": []
  },
  {
   "cell_type": "code",
   "execution_count": null,
   "id": "6575eb7a",
   "metadata": {},
   "outputs": [],
   "source": []
  },
  {
   "cell_type": "code",
   "execution_count": null,
   "id": "31a060ed",
   "metadata": {},
   "outputs": [],
   "source": []
  },
  {
   "cell_type": "code",
   "execution_count": null,
   "id": "aeb2506d",
   "metadata": {},
   "outputs": [],
   "source": []
  },
  {
   "cell_type": "code",
   "execution_count": null,
   "id": "1aeef7cb",
   "metadata": {},
   "outputs": [],
   "source": []
  },
  {
   "cell_type": "code",
   "execution_count": null,
   "id": "31f1c51d",
   "metadata": {},
   "outputs": [],
   "source": []
  },
  {
   "cell_type": "code",
   "execution_count": null,
   "id": "8705689e",
   "metadata": {},
   "outputs": [],
   "source": []
  },
  {
   "cell_type": "code",
   "execution_count": null,
   "id": "3d3db6ce",
   "metadata": {},
   "outputs": [],
   "source": []
  },
  {
   "cell_type": "code",
   "execution_count": null,
   "id": "a34c9411",
   "metadata": {},
   "outputs": [],
   "source": []
  },
  {
   "cell_type": "code",
   "execution_count": null,
   "id": "8bcca81d",
   "metadata": {},
   "outputs": [],
   "source": []
  },
  {
   "cell_type": "code",
   "execution_count": null,
   "id": "dc76629c",
   "metadata": {},
   "outputs": [],
   "source": []
  },
  {
   "cell_type": "code",
   "execution_count": null,
   "id": "8e1ba999",
   "metadata": {},
   "outputs": [],
   "source": []
  },
  {
   "cell_type": "code",
   "execution_count": null,
   "id": "28ce8264",
   "metadata": {},
   "outputs": [],
   "source": []
  }
 ],
 "metadata": {
  "kernelspec": {
   "display_name": "Python 3",
   "language": "python",
   "name": "python3"
  },
  "language_info": {
   "codemirror_mode": {
    "name": "ipython",
    "version": 3
   },
   "file_extension": ".py",
   "mimetype": "text/x-python",
   "name": "python",
   "nbconvert_exporter": "python",
   "pygments_lexer": "ipython3",
   "version": "3.8.8"
  }
 },
 "nbformat": 4,
 "nbformat_minor": 5
}
